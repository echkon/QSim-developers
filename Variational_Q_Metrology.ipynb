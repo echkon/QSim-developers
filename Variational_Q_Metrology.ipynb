{
  "nbformat": 4,
  "nbformat_minor": 0,
  "metadata": {
    "colab": {
      "name": "Variational_Q_Metrology.ipynb",
      "provenance": [],
      "collapsed_sections": [],
      "include_colab_link": true
    },
    "kernelspec": {
      "display_name": "Python 3",
      "name": "python3"
    },
    "language_info": {
      "name": "python"
    }
  },
  "cells": [
    {
      "cell_type": "markdown",
      "metadata": {
        "id": "view-in-github",
        "colab_type": "text"
      },
      "source": [
        "<a href=\"https://colab.research.google.com/github/echkon/QSim-developers/blob/master/Variational_Q_Metrology.ipynb\" target=\"_parent\"><img src=\"https://colab.research.google.com/assets/colab-badge.svg\" alt=\"Open In Colab\"/></a>"
      ]
    },
    {
      "cell_type": "markdown",
      "metadata": {
        "id": "M5rfFD6Ma7zC"
      },
      "source": [
        "# Introduction\n",
        "**I. Multiphase Estimation**\n",
        "\n",
        "This is a test code"
      ]
    },
    {
      "cell_type": "markdown",
      "metadata": {
        "id": "LndNJ0NGADzj"
      },
      "source": [
        "# Arbitrary Qubit Channel\n",
        "\n"
      ]
    },
    {
      "cell_type": "code",
      "metadata": {
        "id": "ibgopIuNuobD"
      },
      "source": [
        "!pip install pennylane "
      ],
      "execution_count": null,
      "outputs": []
    },
    {
      "cell_type": "code",
      "metadata": {
        "id": "je9muDj_utRO"
      },
      "source": [
        "!pip install pennylane-cirq"
      ],
      "execution_count": null,
      "outputs": []
    },
    {
      "cell_type": "code",
      "metadata": {
        "id": "Esz0UwYnu6Va"
      },
      "source": [
        "import pennylane as qml \n",
        "from pennylane import numpy as np \n",
        "from pennylane_cirq import ops as cirq_ops \n",
        "import matplotlib.pyplot as plt"
      ],
      "execution_count": null,
      "outputs": []
    },
    {
      "cell_type": "code",
      "metadata": {
        "id": "YVVC__KrBY75"
      },
      "source": [
        "# Variational ansatz\n",
        "@qml.template\n",
        "def ansatz(weights):\n",
        "    qml.templates.ArbitraryStatePreparation(weights, wires = wires)"
      ],
      "execution_count": null,
      "outputs": []
    },
    {
      "cell_type": "code",
      "metadata": {
        "id": "_GRKjjlF2_iW"
      },
      "source": [
        "# We defined the model here\n",
        "def q(yt, mod): \n",
        "  if mod == 'Mar':\n",
        "    # f = bt/t = yt (gamma*t)\n",
        "    return np.exp(-yt)\n",
        "  else: \n",
        "    # f = b*lambda*t**2/4 = yt*0.01 (set lambda*t/2 = 0.01)\n",
        "    return np.exp(-0.005*yt)\n",
        "\n",
        "def encoding(yt, mod, params, nwires):\n",
        "  # Kraus operator for time-dependent dephasing\n",
        "  K1 = np.array([[q(yt, mod) ,0], [0,1]])\n",
        "  K2 = np.array([[np.sqrt(1-q(yt, mod)**2),0], [0,0]])\n",
        "  K_list = [K1, K2]\n",
        "  \n",
        "  for i in range(nwires):\n",
        "    qml.RZ(yt*params[i], wires=[i])\n",
        "    qml.QubitChannel(K_list, wires=[i])   "
      ],
      "execution_count": null,
      "outputs": []
    },
    {
      "cell_type": "code",
      "metadata": {
        "id": "VPZvGjb3Bw1v"
      },
      "source": [
        "# Variational measurements\n",
        "@qml.template\n",
        "def povm(weights, nwires):\n",
        "    for i in range(nwires):\n",
        "        qml.templates.ArbitraryStatePreparation(\n",
        "            weights[2 * i : 2 * (i + 1)], wires=[i]\n",
        "        )"
      ],
      "execution_count": null,
      "outputs": []
    },
    {
      "cell_type": "code",
      "metadata": {
        "id": "15pqfo_bB7tD"
      },
      "source": [
        "# I dont how to define experiement function with dev.\n",
        "# So I call the device here.\n",
        "\n",
        "n = 3 \n",
        "wires = list(range(0, n))\n",
        "dev = qml.device(\"default.mixed\", wires=n, shots=1000)\n",
        "\n",
        "@qml.qnode(dev)\n",
        "def experiment(weights, Nansatz, params, yt, mod, nwires):\n",
        "  #Nansatz: number-ansatz-parameters\n",
        "  ansatz(weights[:Nansatz])\n",
        "  encoding(yt, mod, params, nwires)\n",
        "  povm(weights[Nansatz:],nwires)\n",
        "\n",
        "  return qml.probs(wires=wires)"
      ],
      "execution_count": null,
      "outputs": []
    },
    {
      "cell_type": "code",
      "metadata": {
        "id": "NYICjyUmSjF2"
      },
      "source": [
        "def CFIM(weights, Nansatz, params, yt, mod, nwires):\n",
        "    p = experiment(weights, Nansatz, params, yt, mod, nwires)\n",
        "    dp = []\n",
        "\n",
        "    for idx in range(3):\n",
        "        # We use the parameter-shift rule explicitly\n",
        "        # to compute the derivatives\n",
        "        shift = np.zeros_like(params)\n",
        "        shift[idx] = np.pi / 2\n",
        "\n",
        "        plus = experiment(weights, Nansatz, params+shift, yt, mod, nwires)\n",
        "        minus = experiment(weights, Nansatz, params-shift, yt, mod, nwires)\n",
        "\n",
        "        dp.append(0.5 * (plus - minus))\n",
        "\n",
        "    matrix = [0] * 9\n",
        "    for i in range(3):\n",
        "        for j in range(3):\n",
        "            matrix[3 * i + j] = np.sum(dp[i] * dp[j] / p)\n",
        "\n",
        "    return np.array(matrix).reshape((3, 3))\n"
      ],
      "execution_count": null,
      "outputs": []
    },
    {
      "cell_type": "code",
      "metadata": {
        "id": "1iVWXWgMSoWl"
      },
      "source": [
        "def cost(weights, Nansatz, params, yt, mod, nwires, J, W, epsilon=1e-10):\n",
        "    return np.trace(\n",
        "        W\n",
        "        @ np.linalg.inv(\n",
        "            J.T @ CFIM(weights, Nansatz, params, yt, mod, nwires) @ J + np.eye(2) * epsilon\n",
        "        )\n",
        "    )    "
      ],
      "execution_count": null,
      "outputs": []
    },
    {
      "cell_type": "code",
      "metadata": {
        "id": "NiSZm7jFSqBW"
      },
      "source": [
        "import sympy\n",
        "import cmath\n",
        "\n",
        "# Prepare symbolic variables\n",
        "x, y, z = sympy.symbols(\"x y z\", real=True)\n",
        "params = sympy.Matrix([x, y, z])\n",
        "\n",
        "# Construct discrete Fourier transform matrix\n",
        "omega = sympy.exp((-1j * 2.0 * cmath.pi) / 3)\n",
        "Omega = sympy.Matrix([[1, 1, 1], [1, omega ** 1, omega ** 2]]) / sympy.sqrt(3)\n",
        "\n",
        "# Compute Jacobian\n",
        "jacobian = (\n",
        "    sympy.Matrix(list(map(lambda x: abs(x) ** 2, Omega @ params))).jacobian(params).T\n",
        ")\n",
        "# Lambdify converts the symbolic expression to a python function\n",
        "jacobian = sympy.lambdify((x, y, z), sympy.re(jacobian))"
      ],
      "execution_count": null,
      "outputs": []
    },
    {
      "cell_type": "markdown",
      "metadata": {
        "id": "YgRDhIj7d5uu"
      },
      "source": [
        "# Run the model"
      ]
    },
    {
      "cell_type": "code",
      "metadata": {
        "id": "OlIqFwGISr41"
      },
      "source": [
        "n = 3\n",
        "wires = list(range(0, n))\n",
        "dev = qml.device(\"default.mixed\", wires=n, shots=1000)\n",
        "\n",
        "Nansatz = 2**(n + 1) - 2\n",
        "Npovms = 2*n\n",
        "\n",
        "yt = 0.65\n",
        "params = np.array([np.pi/6, np.pi/6, -np.pi/6])\n",
        "J = jacobian(*params)\n",
        "W = np.eye(2)\n",
        "mod = 'Mar'\n",
        "nwires = n\n",
        "\n",
        "np.random.seed(395)\n",
        "weights = np.random.uniform(\n",
        "    0, 2 * np.pi, Nansatz + Npovms)"
      ],
      "execution_count": null,
      "outputs": []
    },
    {
      "cell_type": "code",
      "metadata": {
        "colab": {
          "base_uri": "https://localhost:8080/"
        },
        "id": "IQJvSljMdg2r",
        "outputId": "bd3a4648-2564-4b21-eefc-e57aea531e20"
      },
      "source": [
        "# optimal the code\n",
        "def opt_cost(weights, Nansatz=Nansatz, params=params, yt=yt, mod=mod, nwires=nwires, J=J, W=W):\n",
        "    return cost(weights, Nansatz, params, yt, mod, nwires, J, W)  \n",
        "    \n",
        "opt = qml.AdagradOptimizer(stepsize=0.1)\n",
        "\n",
        "print(\"Initialization: Cost = {:6.4f}\".format(opt_cost(weights)))\n",
        "for i in range(20):\n",
        "    weights, cost_ = opt.step_and_cost(opt_cost, weights)\n",
        "\n",
        "    if (i + 1) % 5 == 0:\n",
        "        print(\n",
        "            \"Iteration {:>4}: Cost = {:6.4f}\".format(i + 1, cost_)\n",
        "        )     "
      ],
      "execution_count": null,
      "outputs": [
        {
          "output_type": "stream",
          "name": "stdout",
          "text": [
            "Initialization: Cost = 110.8029\n",
            "Iteration    5: Cost = 38.5757\n",
            "Iteration   10: Cost = 32.2192\n",
            "Iteration   15: Cost = 29.1667\n",
            "Iteration   20: Cost = 25.0525\n"
          ]
        }
      ]
    },
    {
      "cell_type": "code",
      "metadata": {
        "colab": {
          "base_uri": "https://localhost:8080/"
        },
        "id": "T7aTVu16SzPr",
        "outputId": "88ff6a30-63cb-4da6-ddff-185022426708"
      },
      "source": [
        "Ramsey_weights = np.zeros_like(weights)\n",
        "Ramsey_weights[1:6:2] = np.pi / 2\n",
        "Ramsey_weights[15:20:2] = np.pi / 2\n",
        "print(Ramsey_weights)\n",
        "print(\n",
        "    \"Cost for standard Ramsey sensing = {:6.4f}\".format(\n",
        "        opt_cost(Ramsey_weights)\n",
        "    )\n",
        ")"
      ],
      "execution_count": null,
      "outputs": [
        {
          "output_type": "stream",
          "name": "stdout",
          "text": [
            "[0.         1.57079633 0.         1.57079633 0.         1.57079633\n",
            " 0.         0.         0.         0.         0.         0.\n",
            " 0.         0.         0.         1.57079633 0.         1.57079633\n",
            " 0.         1.57079633]\n",
            "Cost for standard Ramsey sensing = 109.6339\n"
          ]
        }
      ]
    },
    {
      "cell_type": "code",
      "metadata": {
        "colab": {
          "base_uri": "https://localhost:8080/",
          "height": 351
        },
        "id": "iYVK18AVS7GN",
        "outputId": "7b2e0551-d58a-46f0-8765-9e98ac7404ac"
      },
      "source": [
        "gammas = np.linspace(0.1, 2.0, 20)\n",
        "comparison_costs = {\n",
        "    \"optimized\": [],\n",
        "    \"standard\": [],\n",
        "}\n",
        "\n",
        "for yt in gammas:\n",
        "    comparison_costs[\"optimized\"].append(\n",
        "        cost(weights, Nansatz, params, yt, mod, nwires, J, W)\n",
        "    )\n",
        "    comparison_costs[\"standard\"].append(\n",
        "        cost(Ramsey_weights, Nansatz, params, yt, mod, nwires, J, W)\n",
        "    )\n",
        "\n",
        "import matplotlib.pyplot as plt\n",
        "\n",
        "plt.semilogy(gammas, comparison_costs[\"optimized\"], label=\"Optimized\")\n",
        "plt.semilogy(gammas, comparison_costs[\"standard\"], label=\"Standard\")\n",
        "plt.xlabel(r\"$\\gamma t$\")\n",
        "plt.ylabel(\"Weighted Cramér-Rao bound\")\n",
        "plt.legend()\n",
        "plt.grid()\n",
        "plt.show()"
      ],
      "execution_count": null,
      "outputs": [
        {
          "output_type": "stream",
          "name": "stderr",
          "text": [
            "/usr/local/lib/python3.7/dist-packages/pennylane/numpy/tensor.py:155: RuntimeWarning: divide by zero encountered in true_divide\n",
            "  res = super().__array_ufunc__(ufunc, method, *args, **kwargs)\n",
            "/usr/local/lib/python3.7/dist-packages/pennylane/numpy/tensor.py:155: RuntimeWarning: invalid value encountered in true_divide\n",
            "  res = super().__array_ufunc__(ufunc, method, *args, **kwargs)\n"
          ]
        },
        {
          "output_type": "display_data",
          "data": {
            "image/png": "[encoded data removed]",
            "text/plain": [
              "<Figure size 432x288 with 1 Axes>"
            ]
          },
          "metadata": {
            "needs_background": "light"
          }
        }
      ]
    },
    {
      "cell_type": "code",
      "metadata": {
        "colab": {
          "base_uri": "https://localhost:8080/"
        },
        "id": "7wvWmsxN86HN",
        "outputId": "96de7683-fb35-4932-b639-3a3a8174501b"
      },
      "source": [
        "print(comparison_costs[\"optimized\"])"
      ],
      "execution_count": null,
      "outputs": [
        {
          "output_type": "stream",
          "name": "stdout",
          "text": [
            "[290.82271882362807, 81.3411037763969, 53.6965988066886, 42.284143843022946, 30.808994958451255, 26.357482629805613, 33.446614187169025, 26.07751267091382, 34.91270632001214, 54.14112814591034, 60.63701843154716, 86.90898318693942, 143.46078996497712, 150.6809339927275, 331.76848388550076, 551.3763900406736, 406.3591970603578, 2212.976307524911, 755.0241657863232, 1842.9966327629813]\n"
          ]
        }
      ]
    },
    {
      "cell_type": "markdown",
      "metadata": {
        "id": "UHjOReK0rsjl"
      },
      "source": [
        "## Compute SLD and RLD"
      ]
    },
    {
      "cell_type": "code",
      "metadata": {
        "id": "S0gUKQJZr0O7"
      },
      "source": [
        "!pip install cvxopt "
      ],
      "execution_count": null,
      "outputs": []
    },
    {
      "cell_type": "code",
      "metadata": {
        "id": "ypeXThqUtAhp"
      },
      "source": [
        "import cvxopt as cvx \n",
        "import pennylane as qml \n",
        "import numpy as np \n",
        "from numpy import outer\n",
        "from numpy import trace as tr\n",
        "from numpy import real as re\n",
        "from numpy.linalg import inv, multi_dot, eigh, matrix_rank\n",
        "from scipy.linalg import solve, block_diag, null_space, sqrtm, norm\n",
        "from scipy.optimize import newton  \n",
        "import itertools as iter "
      ],
      "execution_count": null,
      "outputs": []
    },
    {
      "cell_type": "code",
      "metadata": {
        "id": "_31Z04iltGPg"
      },
      "source": [
        "def vectorize(rhos):\n",
        "  # return a vectorized of rhos \n",
        "  # rhos: an array of rho matrices (data)\n",
        "  vec_rhos = [np.reshape(rho, (len(rho)**2,1),order='F') for rho in rhos]\n",
        "  return vec_rhos\n",
        "\n",
        "def drho(rho_f,params):  \n",
        "  # Derivetive of function rho_f(params)\n",
        "  # params: number of paramaters encoded in rho_f\n",
        "  # rho_f must be a function call the circuit\n",
        "  dp = []\n",
        "  for i in range(len(params)): \n",
        "    # Parameter shift rule \n",
        "    shift = np.zeros_like(params)\n",
        "    shift[i] = np.pi / 2 \n",
        "    plus = rho_f(params + shift)\n",
        "    minus = rho_f(params - shift)\n",
        "    dp.append(0.5 * (plus - minus))\n",
        "  return dp "
      ],
      "execution_count": null,
      "outputs": []
    },
    {
      "cell_type": "code",
      "metadata": {
        "id": "mqRr2e5TtK_C"
      },
      "source": [
        "def inv_M(rho, epsilon = 10e-10): \n",
        "  # return inverse matrix M \n",
        "  # M = rho.trans()*I + I*rho.conj()\n",
        "  # rho: input (data)\n",
        "  d = len(rho)\n",
        "  M = np.kron(rho.T, np.identity(d)) + np.kron(np.identity(d), rho)\n",
        "  return inv(M + np.eye(len(M)) * epsilon)\n",
        "\n",
        "def inv_R(rho, epsilon = 10e-10):\n",
        "  # return inverse matrix R \n",
        "  # R = I*rho.conj()\n",
        "  # rho: input (data)\n",
        "  d = len(rho)\n",
        "  R = np.kron(np.identity(d), rho)\n",
        "  return inv(R + np.eye(len(R)) * epsilon)    \n",
        "\n",
        "def sld_qfim(rho, drhos): \n",
        "  # return SLD_QFIM\n",
        "  # rho: rho matrix (data)\n",
        "  # drhos: derivative of rho (data)\n",
        "\n",
        "  d = len(drhos) # number of paramaters\n",
        "  H = np.zeros((d,d), dtype = complex)\n",
        "  invM = inv_M(rho)\n",
        "  vec_drhos = vectorize(drhos)\n",
        "\n",
        "  for i in range(d):\n",
        "    for j in range(d): \n",
        "      H[i,j] = 2*multi_dot([np.conjugate(vec_drhos[i]).T, invM, vec_drhos[j]]) \n",
        "  return H \n",
        "\n",
        "# RLD QFIM \n",
        "def rld_qfim(rho, drhos): \n",
        "  # return RLD_QFIM\n",
        "  # rho: (data)\n",
        "  # drhos: (data)\n",
        "  # invR = inverse rho (data)\n",
        "\n",
        "  d = len(drhos) # number of estimated parameters \n",
        "  R = np.zeros((d,d), dtype = complex)\n",
        "  invR = inv_R(rho)\n",
        "  vec_drhos = vectorize(drhos)\n",
        " \n",
        "  for i in range(d):\n",
        "    for j in range(d): \n",
        "      R[i,j] = multi_dot([np.conjugate(vec_drhos[i]).T, invR, vec_drhos[j]]) \n",
        "  return R\n",
        "\n",
        "# Quantum bounds\n",
        "def sld_bound(rho, drhos, W):\n",
        "  # return the SLD bound\n",
        "  # rho: (data)\n",
        "  # drhos: derivative of rho (data)\n",
        "  # W: W matrix\n",
        "\n",
        "  SLD = sld_qfim(rho, drhos)\n",
        "  return np.trace(W @ inv(SLD + np.eye(len(SLD)) * 10e-10))\n",
        "\n",
        "def rld_bound(rho, drhos, W):\n",
        "  # return the RLD bound\n",
        "  # rho: (data)\n",
        "  # drhos: derivative of rho (data)\n",
        "  # W: W matrix\n",
        "\n",
        "  RLD = rld_qfim(rho, drhos)\n",
        "  invRLD = inv(RLD + np.eye(len(SLD)) * 10e-10)\n",
        "  R1 = np.trace(W @ np.real(invRLD))\n",
        "  R2 = norm(multi_dot([sqrtm(W), np.imag(invRLD),sqrtm(W)])) \n",
        "\n",
        "  return R1 + R2 "
      ],
      "execution_count": null,
      "outputs": []
    },
    {
      "cell_type": "markdown",
      "metadata": {
        "id": "GvfwjT119UUX"
      },
      "source": [
        "#test code"
      ]
    },
    {
      "cell_type": "code",
      "metadata": {
        "colab": {
          "base_uri": "https://localhost:8080/"
        },
        "id": "xH2rIcOatT87",
        "outputId": "f9f0c0f5-51cf-4601-8486-a4a8833f1973"
      },
      "source": [
        "# Test code for GHZ\n",
        "n = 3\n",
        "wires = list(range(0, n))\n",
        "devi = qml.device(\"default.mixed\", wires=n, shots=1000)\n",
        "\n",
        "@qml.qnode(devi)\n",
        "def rho_func(params): \n",
        "    qml.Hadamard(wires=0)\n",
        "    for i in range(1,n):\n",
        "      qml.CNOT(wires = [0,i])\n",
        "    for i in range(n):\n",
        "      qml.RZ(params[i], wires=[i])  \n",
        "      qml.RX(params[i], wires=[i]) \n",
        "      qml.RZ(params[i], wires=[i]) \n",
        "    return qml.state()\n",
        "\n",
        "thetas = np.array([np.pi/6, np.pi/4, -np.pi/6])\n",
        "\n",
        "drhos = drho(rho_func,thetas)\n",
        "rho_data = rho_func(thetas)\n",
        "\n",
        "print(sld_bound(rho_data, drhos, W))\n",
        "print(rld_bound(rho_data, drhos, W))\n"
      ],
      "execution_count": null,
      "outputs": [
        {
          "output_type": "stream",
          "name": "stdout",
          "text": [
            "(1.5145688376248894e-08-2.9305859859284306e-17j)\n",
            "2.831858446375162e-08\n"
          ]
        }
      ]
    },
    {
      "cell_type": "code",
      "metadata": {
        "colab": {
          "base_uri": "https://localhost:8080/"
        },
        "id": "I9hv7gIHfUIQ",
        "outputId": "bd05e6eb-55ac-4014-dc85-95c5ab5cfeb3"
      },
      "source": [
        "# Test with noisy model above\n",
        "\n",
        "# save rho_data for later use\n",
        "@qml.qnode(dev)\n",
        "def rho_cir(params,weights = weights, Nansatz = Nansatz, yt = yt, mod = mod, nwires = nwires):\n",
        "  #Nansatz: number-ansatz-parameters\n",
        "  ansatz(weights[:Nansatz])\n",
        "  encoding(yt, mod, params, nwires)\n",
        "  return qml.state()\n",
        "\n",
        "rho_data = rho_cir(params)\n",
        "drhos = drho(rho_cir,params)\n",
        "\n",
        "W = np.eye(3)\n",
        "print(sld_bound(rho_data, drhos, W))\n",
        "print(rld_bound(rho_data, drhos, W))"
      ],
      "execution_count": null,
      "outputs": [
        {
          "output_type": "stream",
          "name": "stdout",
          "text": [
            "(18.201814256551785-1.2873026584746309e-15j)\n",
            "11.015051514654969\n"
          ]
        }
      ]
    }
  ]
}